{
 "cells": [
  {
   "cell_type": "code",
   "execution_count": 1,
   "metadata": {},
   "outputs": [],
   "source": [
    "import os\n",
    "import pandas as pd\n",
    "import numpy as np"
   ]
  },
  {
   "cell_type": "code",
   "execution_count": 2,
   "metadata": {},
   "outputs": [],
   "source": [
    "rawdata = pd.read_excel(f\"{os.path.dirname(os.getcwd())}\\\\raw_data\\\\all_matches_6ovr_data.xlsx\",sheet_name=\"all_matches_6ovr_data (8 Teams)\")"
   ]
  },
  {
   "cell_type": "code",
   "execution_count": 3,
   "metadata": {},
   "outputs": [],
   "source": [
    "df = rawdata.copy()\n",
    "df['start_date'] = pd.to_datetime(df['start_date'])\n",
    "df = df.sort_values(by='start_date')"
   ]
  },
  {
   "cell_type": "code",
   "execution_count": 8,
   "metadata": {
    "scrolled": true
   },
   "outputs": [
    {
     "data": {
      "text/plain": [
       "Index(['match_id', 'season', 'start_date', 'venue', 'venue_Updated', 'innings',\n",
       "       'ball', 'Over', 'batting_team', 'Standardised_batting_team',\n",
       "       'bowling_team', 'Standardised_bowling_team', 'striker', 'non_striker',\n",
       "       'bowler', 'runs_off_bat', 'extras', 'Overall_Runs', 'wides', 'noballs',\n",
       "       'byes', 'legbyes', 'penalty', 'wicket_type', 'player_dismissed',\n",
       "       'other_wicket_type', 'other_player_dismissed', 'Total_runs', 'PP_Score',\n",
       "       'is_wicket', 'Total_wickets', 'PP_wickets'],\n",
       "      dtype='object')"
      ]
     },
     "execution_count": 8,
     "metadata": {},
     "output_type": "execute_result"
    }
   ],
   "source": [
    "df.columns"
   ]
  },
  {
   "cell_type": "code",
   "execution_count": 5,
   "metadata": {},
   "outputs": [],
   "source": [
    "# * running total of overall runs\n",
    "df['Total_runs'] = df.groupby(['match_id','innings'])['Overall_Runs'].apply(lambda x: x.cumsum())\n",
    "df['PP_Score'] = df.groupby(['match_id','innings'])['Overall_Runs'].transform('sum')"
   ]
  },
  {
   "cell_type": "code",
   "execution_count": 6,
   "metadata": {},
   "outputs": [],
   "source": [
    "# * Wickets\n",
    "df['is_wicket'] = df['wicket_type'].apply(lambda x: 0 if pd.isna(x) else 1)\n",
    "# * running total of no of wickets\n",
    "df['Total_wickets'] = df.groupby(['match_id','innings'])['is_wicket'].apply(lambda x: x.cumsum())\n",
    "df['PP_wickets'] = df.groupby(['match_id','innings'])['is_wicket'].transform('sum')"
   ]
  },
  {
   "cell_type": "code",
   "execution_count": 10,
   "metadata": {},
   "outputs": [],
   "source": [
    "df.to_csv(f\"{os.path.dirname(os.getcwd())}\\\\raw_data\\\\data_by_overs.csv\")"
   ]
  },
  {
   "cell_type": "markdown",
   "metadata": {},
   "source": [
    "### Aggregating data to innings level"
   ]
  },
  {
   "cell_type": "code",
   "execution_count": 24,
   "metadata": {},
   "outputs": [],
   "source": [
    "data_ings_level = df[['match_id','season', 'start_date', 'venue_Updated', 'innings','Standardised_batting_team', 'Standardised_bowling_team','PP_Score','PP_wickets']]"
   ]
  },
  {
   "cell_type": "code",
   "execution_count": 25,
   "metadata": {},
   "outputs": [],
   "source": [
    "# drop duplicates to have one record for each innings in a match\n",
    "data_ings_level = data_ings_level.drop_duplicates()"
   ]
  },
  {
   "cell_type": "code",
   "execution_count": 57,
   "metadata": {},
   "outputs": [
    {
     "name": "stderr",
     "output_type": "stream",
     "text": [
      "<ipython-input-57-23deaede02ff>:2: SettingWithCopyWarning: \n",
      "A value is trying to be set on a copy of a slice from a DataFrame.\n",
      "Try using .loc[row_indexer,col_indexer] = value instead\n",
      "\n",
      "See the caveats in the documentation: https://pandas.pydata.org/pandas-docs/stable/user_guide/indexing.html#returning-a-view-versus-a-copy\n",
      "  first_ings['avgscore_TD_by_venue'] = first_ings.groupby(['venue_Updated'])['PP_Score'].apply(lambda x: x.cumsum()/range(1,len(x)+1))\n",
      "<ipython-input-57-23deaede02ff>:3: SettingWithCopyWarning: \n",
      "A value is trying to be set on a copy of a slice from a DataFrame.\n",
      "Try using .loc[row_indexer,col_indexer] = value instead\n",
      "\n",
      "See the caveats in the documentation: https://pandas.pydata.org/pandas-docs/stable/user_guide/indexing.html#returning-a-view-versus-a-copy\n",
      "  first_ings['avgwkts_TD_by_venue'] = first_ings.groupby(['venue_Updated'])['PP_wickets'].apply(lambda x: x.cumsum()/range(1,len(x)+1))\n"
     ]
    }
   ],
   "source": [
    "# * first innings data\n",
    "first_ings = data_ings_level[data_ings_level['innings'] == 1]\n",
    "first_ings['avgscore_TD_by_venue'] = first_ings.groupby(['venue_Updated'])['PP_Score'].apply(lambda x: x.cumsum()/range(1,len(x)+1))\n",
    "first_ings['avgwkts_TD_by_venue'] = first_ings.groupby(['venue_Updated'])['PP_wickets'].apply(lambda x: x.cumsum()/range(1,len(x)+1))\n",
    "\n",
    "# * second innings data\n",
    "second_ings = data_ings_level[data_ings_level['innings'] == 2]\n",
    "second_ings['avgscore_TD_by_venue'] = second_ings.groupby(['venue_Updated'])['PP_Score'].apply(lambda x: x.cumsum()/range(1,len(x)+1))\n",
    "second_ings['avgwkts_TD_by_venue'] = second_ings.groupby(['venue_Updated'])['PP_wickets'].apply(lambda x: x.cumsum()/range(1,len(x)+1))"
   ]
  },
  {
   "cell_type": "code",
   "execution_count": 58,
   "metadata": {},
   "outputs": [
    {
     "name": "stderr",
     "output_type": "stream",
     "text": [
      "<ipython-input-58-cb645fffa005>:2: SettingWithCopyWarning: \n",
      "A value is trying to be set on a copy of a slice from a DataFrame.\n",
      "Try using .loc[row_indexer,col_indexer] = value instead\n",
      "\n",
      "See the caveats in the documentation: https://pandas.pydata.org/pandas-docs/stable/user_guide/indexing.html#returning-a-view-versus-a-copy\n",
      "  second_ings['avgscore_TD_by_venue'] = second_ings.groupby(['venue_Updated'])['PP_Score'].apply(lambda x: x.cumsum()/range(1,len(x)+1))\n",
      "<ipython-input-58-cb645fffa005>:3: SettingWithCopyWarning: \n",
      "A value is trying to be set on a copy of a slice from a DataFrame.\n",
      "Try using .loc[row_indexer,col_indexer] = value instead\n",
      "\n",
      "See the caveats in the documentation: https://pandas.pydata.org/pandas-docs/stable/user_guide/indexing.html#returning-a-view-versus-a-copy\n",
      "  second_ings['avgwkts_TD_by_venue'] = second_ings.groupby(['venue_Updated'])['PP_wickets'].apply(lambda x: x.cumsum()/range(1,len(x)+1))\n"
     ]
    }
   ],
   "source": []
  },
  {
   "cell_type": "code",
   "execution_count": 75,
   "metadata": {},
   "outputs": [
    {
     "name": "stderr",
     "output_type": "stream",
     "text": [
      "<ipython-input-75-540b22efb8d7>:5: SettingWithCopyWarning: \n",
      "A value is trying to be set on a copy of a slice from a DataFrame.\n",
      "Try using .loc[row_indexer,col_indexer] = value instead\n",
      "\n",
      "See the caveats in the documentation: https://pandas.pydata.org/pandas-docs/stable/user_guide/indexing.html#returning-a-view-versus-a-copy\n",
      "  team_data['avgscore_TD_by_bat_team'] = team_data.groupby(['Standardised_batting_team'])['PP_Score'].apply(lambda x: x.cumsum()/range(1,len(x)+1))\n",
      "<ipython-input-75-540b22efb8d7>:6: SettingWithCopyWarning: \n",
      "A value is trying to be set on a copy of a slice from a DataFrame.\n",
      "Try using .loc[row_indexer,col_indexer] = value instead\n",
      "\n",
      "See the caveats in the documentation: https://pandas.pydata.org/pandas-docs/stable/user_guide/indexing.html#returning-a-view-versus-a-copy\n",
      "  team_data['avgwkts_TD_by__bat_team'] = team_data.groupby(['Standardised_batting_team'])['PP_wickets'].apply(lambda x: x.cumsum()/range(1,len(x)+1))\n"
     ]
    }
   ],
   "source": [
    "# * calculate average for each batting team\n",
    "list_df=[]\n",
    "for ing in [first_ings,second_ings]:\n",
    "    for teams in ing['Standardised_batting_team'].unique():\n",
    "        team_data = ing[ing['Standardised_batting_team'] == teams]\n",
    "        team_data['avgscore_TD_by_bat_team'] = team_data.groupby(['Standardised_batting_team'])['PP_Score'].apply(lambda x: x.cumsum()/range(1,len(x)+1))\n",
    "        team_data['avgwkts_TD_by__bat_team'] = team_data.groupby(['Standardised_batting_team'])['PP_wickets'].apply(lambda x: x.cumsum()/range(1,len(x)+1))\n",
    "        list_df.append(team_data)\n",
    "\n",
    "data_ings_level = pd.concat(list_df,axis=0)"
   ]
  },
  {
   "cell_type": "code",
   "execution_count": 78,
   "metadata": {},
   "outputs": [
    {
     "data": {
      "text/html": [
       "<div>\n",
       "<style scoped>\n",
       "    .dataframe tbody tr th:only-of-type {\n",
       "        vertical-align: middle;\n",
       "    }\n",
       "\n",
       "    .dataframe tbody tr th {\n",
       "        vertical-align: top;\n",
       "    }\n",
       "\n",
       "    .dataframe thead th {\n",
       "        text-align: right;\n",
       "    }\n",
       "</style>\n",
       "<table border=\"1\" class=\"dataframe\">\n",
       "  <thead>\n",
       "    <tr style=\"text-align: right;\">\n",
       "      <th></th>\n",
       "      <th>match_id</th>\n",
       "      <th>season</th>\n",
       "      <th>start_date</th>\n",
       "      <th>venue_Updated</th>\n",
       "      <th>innings</th>\n",
       "      <th>Standardised_batting_team</th>\n",
       "      <th>Standardised_bowling_team</th>\n",
       "      <th>PP_Score</th>\n",
       "      <th>PP_wickets</th>\n",
       "      <th>avgscore_TD_by_venue</th>\n",
       "      <th>avgwkts_TD_by_venue</th>\n",
       "      <th>avgscore_TD_by_bat_team</th>\n",
       "      <th>avgwkts_TD_by__bat_team</th>\n",
       "    </tr>\n",
       "  </thead>\n",
       "  <tbody>\n",
       "    <tr>\n",
       "      <th>1280</th>\n",
       "      <td>336000</td>\n",
       "      <td>2007/08</td>\n",
       "      <td>2008-01-05</td>\n",
       "      <td>Sawai Mansingh Stadium</td>\n",
       "      <td>1</td>\n",
       "      <td>Rajasthan Royals</td>\n",
       "      <td>Kolkata Knight Riders</td>\n",
       "      <td>45</td>\n",
       "      <td>1</td>\n",
       "      <td>45.000000</td>\n",
       "      <td>1.000000</td>\n",
       "      <td>45.000000</td>\n",
       "      <td>1.000000</td>\n",
       "    </tr>\n",
       "    <tr>\n",
       "      <th>171</th>\n",
       "      <td>335984</td>\n",
       "      <td>2007/08</td>\n",
       "      <td>2008-04-19</td>\n",
       "      <td>Arun Jaitley Stadium</td>\n",
       "      <td>1</td>\n",
       "      <td>Rajasthan Royals</td>\n",
       "      <td>Delhi Capitals</td>\n",
       "      <td>40</td>\n",
       "      <td>2</td>\n",
       "      <td>40.000000</td>\n",
       "      <td>2.000000</td>\n",
       "      <td>42.500000</td>\n",
       "      <td>1.500000</td>\n",
       "    </tr>\n",
       "    <tr>\n",
       "      <th>2894</th>\n",
       "      <td>336023</td>\n",
       "      <td>2007/08</td>\n",
       "      <td>2008-05-17</td>\n",
       "      <td>Sawai Mansingh Stadium</td>\n",
       "      <td>1</td>\n",
       "      <td>Rajasthan Royals</td>\n",
       "      <td>Royal Challengers Bangalore</td>\n",
       "      <td>51</td>\n",
       "      <td>0</td>\n",
       "      <td>47.000000</td>\n",
       "      <td>1.500000</td>\n",
       "      <td>45.333333</td>\n",
       "      <td>1.000000</td>\n",
       "    </tr>\n",
       "    <tr>\n",
       "      <th>3665</th>\n",
       "      <td>336033</td>\n",
       "      <td>2007/08</td>\n",
       "      <td>2008-05-24</td>\n",
       "      <td>MA Chidambaram Stadium, Chepauk, Chennai</td>\n",
       "      <td>1</td>\n",
       "      <td>Rajasthan Royals</td>\n",
       "      <td>Chennai Super Kings</td>\n",
       "      <td>67</td>\n",
       "      <td>0</td>\n",
       "      <td>50.200000</td>\n",
       "      <td>1.600000</td>\n",
       "      <td>50.750000</td>\n",
       "      <td>0.750000</td>\n",
       "    </tr>\n",
       "    <tr>\n",
       "      <th>4181</th>\n",
       "      <td>336038</td>\n",
       "      <td>2007/08</td>\n",
       "      <td>2008-05-30</td>\n",
       "      <td>Wankhede Stadium, Mumbai</td>\n",
       "      <td>1</td>\n",
       "      <td>Rajasthan Royals</td>\n",
       "      <td>Delhi Capitals</td>\n",
       "      <td>58</td>\n",
       "      <td>0</td>\n",
       "      <td>40.600000</td>\n",
       "      <td>1.800000</td>\n",
       "      <td>52.200000</td>\n",
       "      <td>0.600000</td>\n",
       "    </tr>\n",
       "    <tr>\n",
       "      <th>...</th>\n",
       "      <td>...</td>\n",
       "      <td>...</td>\n",
       "      <td>...</td>\n",
       "      <td>...</td>\n",
       "      <td>...</td>\n",
       "      <td>...</td>\n",
       "      <td>...</td>\n",
       "      <td>...</td>\n",
       "      <td>...</td>\n",
       "      <td>...</td>\n",
       "      <td>...</td>\n",
       "      <td>...</td>\n",
       "      <td>...</td>\n",
       "    </tr>\n",
       "    <tr>\n",
       "      <th>48170</th>\n",
       "      <td>1216496</td>\n",
       "      <td>2020/21</td>\n",
       "      <td>2020-09-22</td>\n",
       "      <td>Sharjah Cricket Stadium</td>\n",
       "      <td>2</td>\n",
       "      <td>Chennai Super Kings</td>\n",
       "      <td>Rajasthan Royals</td>\n",
       "      <td>53</td>\n",
       "      <td>0</td>\n",
       "      <td>47.818182</td>\n",
       "      <td>0.818182</td>\n",
       "      <td>46.443038</td>\n",
       "      <td>1.303797</td>\n",
       "    </tr>\n",
       "    <tr>\n",
       "      <th>48318</th>\n",
       "      <td>1216539</td>\n",
       "      <td>2020/21</td>\n",
       "      <td>2020-09-25</td>\n",
       "      <td>Dubai International Cricket Stadium</td>\n",
       "      <td>2</td>\n",
       "      <td>Chennai Super Kings</td>\n",
       "      <td>Delhi Capitals</td>\n",
       "      <td>34</td>\n",
       "      <td>2</td>\n",
       "      <td>40.647059</td>\n",
       "      <td>2.235294</td>\n",
       "      <td>46.287500</td>\n",
       "      <td>1.312500</td>\n",
       "    </tr>\n",
       "    <tr>\n",
       "      <th>49748</th>\n",
       "      <td>1216525</td>\n",
       "      <td>2020/21</td>\n",
       "      <td>2020-10-10</td>\n",
       "      <td>Dubai International Cricket Stadium</td>\n",
       "      <td>2</td>\n",
       "      <td>Chennai Super Kings</td>\n",
       "      <td>Royal Challengers Bangalore</td>\n",
       "      <td>26</td>\n",
       "      <td>2</td>\n",
       "      <td>39.550000</td>\n",
       "      <td>2.200000</td>\n",
       "      <td>46.037037</td>\n",
       "      <td>1.320988</td>\n",
       "    </tr>\n",
       "    <tr>\n",
       "      <th>51227</th>\n",
       "      <td>1216544</td>\n",
       "      <td>2020/21</td>\n",
       "      <td>2020-10-25</td>\n",
       "      <td>Dubai International Cricket Stadium</td>\n",
       "      <td>2</td>\n",
       "      <td>Chennai Super Kings</td>\n",
       "      <td>Royal Challengers Bangalore</td>\n",
       "      <td>48</td>\n",
       "      <td>1</td>\n",
       "      <td>43.275862</td>\n",
       "      <td>1.965517</td>\n",
       "      <td>46.060976</td>\n",
       "      <td>1.317073</td>\n",
       "    </tr>\n",
       "    <tr>\n",
       "      <th>51519</th>\n",
       "      <td>1216536</td>\n",
       "      <td>2020/21</td>\n",
       "      <td>2020-10-29</td>\n",
       "      <td>Dubai International Cricket Stadium</td>\n",
       "      <td>2</td>\n",
       "      <td>Chennai Super Kings</td>\n",
       "      <td>Kolkata Knight Riders</td>\n",
       "      <td>44</td>\n",
       "      <td>0</td>\n",
       "      <td>43.645161</td>\n",
       "      <td>1.903226</td>\n",
       "      <td>46.036145</td>\n",
       "      <td>1.301205</td>\n",
       "    </tr>\n",
       "  </tbody>\n",
       "</table>\n",
       "<p>1407 rows × 13 columns</p>\n",
       "</div>"
      ],
      "text/plain": [
       "       match_id   season start_date                             venue_Updated  \\\n",
       "1280     336000  2007/08 2008-01-05                    Sawai Mansingh Stadium   \n",
       "171      335984  2007/08 2008-04-19                      Arun Jaitley Stadium   \n",
       "2894     336023  2007/08 2008-05-17                    Sawai Mansingh Stadium   \n",
       "3665     336033  2007/08 2008-05-24  MA Chidambaram Stadium, Chepauk, Chennai   \n",
       "4181     336038  2007/08 2008-05-30                  Wankhede Stadium, Mumbai   \n",
       "...         ...      ...        ...                                       ...   \n",
       "48170   1216496  2020/21 2020-09-22                   Sharjah Cricket Stadium   \n",
       "48318   1216539  2020/21 2020-09-25       Dubai International Cricket Stadium   \n",
       "49748   1216525  2020/21 2020-10-10       Dubai International Cricket Stadium   \n",
       "51227   1216544  2020/21 2020-10-25       Dubai International Cricket Stadium   \n",
       "51519   1216536  2020/21 2020-10-29       Dubai International Cricket Stadium   \n",
       "\n",
       "       innings Standardised_batting_team    Standardised_bowling_team  \\\n",
       "1280         1          Rajasthan Royals        Kolkata Knight Riders   \n",
       "171          1          Rajasthan Royals               Delhi Capitals   \n",
       "2894         1          Rajasthan Royals  Royal Challengers Bangalore   \n",
       "3665         1          Rajasthan Royals          Chennai Super Kings   \n",
       "4181         1          Rajasthan Royals               Delhi Capitals   \n",
       "...        ...                       ...                          ...   \n",
       "48170        2       Chennai Super Kings             Rajasthan Royals   \n",
       "48318        2       Chennai Super Kings               Delhi Capitals   \n",
       "49748        2       Chennai Super Kings  Royal Challengers Bangalore   \n",
       "51227        2       Chennai Super Kings  Royal Challengers Bangalore   \n",
       "51519        2       Chennai Super Kings        Kolkata Knight Riders   \n",
       "\n",
       "       PP_Score  PP_wickets  avgscore_TD_by_venue  avgwkts_TD_by_venue  \\\n",
       "1280         45           1             45.000000             1.000000   \n",
       "171          40           2             40.000000             2.000000   \n",
       "2894         51           0             47.000000             1.500000   \n",
       "3665         67           0             50.200000             1.600000   \n",
       "4181         58           0             40.600000             1.800000   \n",
       "...         ...         ...                   ...                  ...   \n",
       "48170        53           0             47.818182             0.818182   \n",
       "48318        34           2             40.647059             2.235294   \n",
       "49748        26           2             39.550000             2.200000   \n",
       "51227        48           1             43.275862             1.965517   \n",
       "51519        44           0             43.645161             1.903226   \n",
       "\n",
       "       avgscore_TD_by_bat_team  avgwkts_TD_by__bat_team  \n",
       "1280                 45.000000                 1.000000  \n",
       "171                  42.500000                 1.500000  \n",
       "2894                 45.333333                 1.000000  \n",
       "3665                 50.750000                 0.750000  \n",
       "4181                 52.200000                 0.600000  \n",
       "...                        ...                      ...  \n",
       "48170                46.443038                 1.303797  \n",
       "48318                46.287500                 1.312500  \n",
       "49748                46.037037                 1.320988  \n",
       "51227                46.060976                 1.317073  \n",
       "51519                46.036145                 1.301205  \n",
       "\n",
       "[1407 rows x 13 columns]"
      ]
     },
     "execution_count": 78,
     "metadata": {},
     "output_type": "execute_result"
    }
   ],
   "source": [
    "data_ings_level"
   ]
  },
  {
   "cell_type": "code",
   "execution_count": 79,
   "metadata": {},
   "outputs": [],
   "source": [
    "data_ings_level.to_csv(f\"{os.path.dirname(os.getcwd())}\\\\raw_data\\\\data_ings_level.csv\")"
   ]
  }
 ],
 "metadata": {
  "kernelspec": {
   "display_name": "Python 3",
   "language": "python",
   "name": "python3"
  },
  "language_info": {
   "codemirror_mode": {
    "name": "ipython",
    "version": 3
   },
   "file_extension": ".py",
   "mimetype": "text/x-python",
   "name": "python",
   "nbconvert_exporter": "python",
   "pygments_lexer": "ipython3",
   "version": "3.8.3"
  }
 },
 "nbformat": 4,
 "nbformat_minor": 4
}
